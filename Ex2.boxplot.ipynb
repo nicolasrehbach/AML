{
 "cells": [
  {
   "cell_type": "markdown",
   "id": "e5a5ffd6",
   "metadata": {},
   "source": [
    "<img src=\"https://www.th-koeln.de/img/logo.svg\" style=\"float:right;\" width=\"200\">"
   ]
  },
  {
   "cell_type": "markdown",
   "id": "22cf227f",
   "metadata": {},
   "source": [
    "# 2nd exercise: <font color=\"#C70039\">Work with Boxplots for anomaly detection</font>\n",
    "* Course: AML\n",
    "* Lecturer: <a href=\"https://www.gernotheisenberg.de/\">Gernot Heisenberg</a>\n",
    "* Author of notebook: <a href=\"https://www.gernotheisenberg.de/\">Gernot Heisenberg</a>\n",
    "* Student: Nicolas Rehbach\n",
    "* Matriculation Number: 11133387\n",
    "* Date: 25.10.2022\n",
    "\n",
    "<img src=\"https://r-graph-gallery.com/img/other/boxplot_explanation.png\" style=\"float: center;\" width=\"800\">\n",
    "<img src=\"https://i2.wp.com/upload.wikimedia.org/wikipedia/commons/thumb/1/1a/Boxplot_vs_PDF.svg/550px-Boxplot_vs_PDF.svg.png?w=578\" style=\"float: center;\" width=\"800\">\n",
    "\n",
    "\n",
    "---------------------------------\n",
    "**GENERAL NOTE 1**: \n",
    "Please make sure you are reading the entire notebook, since it contains a lot of information on your tasks (e.g. regarding the set of certain paramaters or a specific computational trick), and the written mark downs as well as comments contain a lot of information on how things work together as a whole. \n",
    "\n",
    "**GENERAL NOTE 2**: \n",
    "* Please, when commenting source code, just use English language only. \n",
    "* When describing an observation please use English language, too\n",
    "* This applies to all exercises throughout this course.  \n",
    "\n",
    "---------------------\n",
    "\n",
    "### <font color=\"ce33ff\">DESCRIPTION</font>:\n",
    "This notebook allows you for using boxplots to detect anomalies. Try to interpret the boxplot. \n",
    "\n",
    "-------------------------------------------------------------------------------------------------------------\n",
    "\n",
    "### <font color=\"FFC300\">TASKS</font>:\n",
    "The tasks that you need to work on within this notebook are always indicated below as bullet points. \n",
    "If a task is more challenging and consists of several steps, this is indicated as well. \n",
    "Make sure you have worked down the task list and commented your doings. \n",
    "This should be done by using markdown.<br> \n",
    "<font color=red>Make sure you don't forget to specify your name and your matriculation number in the notebook.</font>\n",
    "\n",
    "**YOUR TASKS in this exercise are as follows**:\n",
    "1. import the notebook to Google Colab or use your local machine.\n",
    "2. make sure you specified you name and your matriculation number in the header below my name and date. \n",
    "    * set the date too and remove mine.\n",
    "3. read the entire notebook carefully \n",
    "    * add comments whereever you feel it necessary for better understanding\n",
    "    * run the notebook for the first time. \n",
    "4. take the three data sets from exercize 1 and create a boxplot for each of them\n",
    "5. interpret the visual results and describe them\n",
    "6. how can you test your data for being normally distributed? \n",
    "-----------------------------------------------------------------------------------"
   ]
  },
  {
   "cell_type": "code",
   "execution_count": 1,
   "id": "f4fb24f7",
   "metadata": {},
   "outputs": [],
   "source": [
    "import seaborn as sns\n",
    "import matplotlib.pyplot as plt\n",
    "import numpy as np\n",
    "from numpy.random import randn\n",
    "np.random.seed(1)\n",
    "\n",
    "import pandas as pd\n"
   ]
  },
  {
   "cell_type": "code",
   "execution_count": 2,
   "id": "dc9ba45e",
   "metadata": {},
   "outputs": [],
   "source": [
    "# multiply and add by random numbers to get some real values\n",
    "# randn generates samples from the normal distribution (important - see below)\n",
    "random_data = np.random.randn(50000)  * 20 + 20"
   ]
  },
  {
   "cell_type": "code",
   "execution_count": 3,
   "id": "b4f3ee2e",
   "metadata": {},
   "outputs": [
    {
     "data": {
      "image/png": "[encoded data removed]",
      "text/plain": [
       "<Figure size 640x480 with 1 Axes>"
      ]
     },
     "metadata": {},
     "output_type": "display_data"
    }
   ],
   "source": [
    "sns.boxplot(data=random_data)\n",
    "plt.show()"
   ]
  },
  {
   "cell_type": "code",
   "execution_count": 4,
   "id": "b5a1ab56-056d-402d-a42c-28dc7a356f78",
   "metadata": {},
   "outputs": [],
   "source": [
    "diabetes_df = pd.read_csv('./data/diabetes.csv')\n",
    "height_df = pd.read_csv('./data/Height of Male and Female by Country 2022.csv')\n",
    "weight_df = pd.read_csv('./data/SOCR-HeightWeight.csv')\n",
    "\n",
    "diabetes_df = diabetes_df.dropna()\n",
    "height_df = height_df.dropna()\n",
    "weight_df = weight_df.dropna()"
   ]
  },
  {
   "cell_type": "code",
   "execution_count": 5,
   "id": "7d0466de",
   "metadata": {},
   "outputs": [
    {
     "data": {
      "text/plain": [
       "<AxesSubplot: >"
      ]
     },
     "execution_count": 5,
     "metadata": {},
     "output_type": "execute_result"
    },
    {
     "data": {
      "image/png": "[encoded data removed]",
      "text/plain": [
       "<Figure size 640x480 with 1 Axes>"
      ]
     },
     "metadata": {},
     "output_type": "display_data"
    }
   ],
   "source": [
    "sns.boxplot(data = diabetes_df['BMI'])"
   ]
  },
  {
   "cell_type": "markdown",
   "id": "5ee48d71-fbc7-4649-b50a-3d44e9ff4795",
   "metadata": {},
   "source": [
    "## Interpreting the BMI boxplot\n",
    "\n",
    "We can analyze 10 different aspects of the boxplot:\n",
    "\n",
    "1. Minimum value: the minimum value can be observed at the 0 point. Though there is only one dot visible, there were several observations containing the value 0\n",
    "2. Minimum outliers: not observable\n",
    "3. Minimum value of the data: the lowest non outlier data is around 19\n",
    "4. 25th Percentile / Q1: the Q1 is close to 27\n",
    "5. Interquartilerange Q1-Q3: between 27 to 35\n",
    "6. Median / Q2: the median is around 32\n",
    "7. 75th Percentile / Q3: the Q3 is close to 35\n",
    "8. Maximum: the maximum is around 51\n",
    "9. Maximum outliers: there are quite a few outliers betweent the range of 51 to 67\n",
    "10. Maximum value: the maximum value is around 67\n",
    "\n",
    "In this boxplot we analyzed the BMI of people. There were some missing values resulting in the minimum value 0. Other outliers towards the minimum side are not observable.\n",
    "The minimum BMI of the correct data is around 19 with a 25th percentile close to 27. The interquarilerange is between 27 to 35. The median BMI is around 32 and the 75th percentile around 35. \n",
    "The maximum of the data is around 51 with a few outliers up to 67. The maximum value is around 67.\n",
    "\n",
    "We can thus conclude, that 50 percent of the participants have an BMI between 27 to 35, 25 percent of 19 to 27 and 25 percent of 35 to 51.\n"
   ]
  },
  {
   "cell_type": "code",
   "execution_count": 6,
   "id": "d9bb4b5f-24d1-408b-9cf0-b551a0e757bf",
   "metadata": {},
   "outputs": [
    {
     "data": {
      "text/plain": [
       "<AxesSubplot: >"
      ]
     },
     "execution_count": 6,
     "metadata": {},
     "output_type": "execute_result"
    },
    {
     "data": {
      "image/png": "[encoded data removed]",
      "text/plain": [
       "<Figure size 640x480 with 1 Axes>"
      ]
     },
     "metadata": {},
     "output_type": "display_data"
    }
   ],
   "source": [
    "sns.boxplot(data = height_df['Male Height in Cm'])"
   ]
  },
  {
   "cell_type": "markdown",
   "id": "b27d739b-07bc-4a6e-8d70-7bb2c4f665a5",
   "metadata": {},
   "source": [
    "1. Minimum value: since there are no outliers, no minimum value is observale\n",
    "2. Minimum outliers: not observable\n",
    "3. Minimum: the lowest non outlier data is around 160cm\n",
    "4. 25th Percentile / Q1: The Q1 starts at 170cm\n",
    "5. Interquartilerange Q1-Q3: Between 170cm to 177cm\n",
    "6. Median / Q2: the median is around 173cm\n",
    "7. 75th Percentile / Q3: The Q3 is around 177\n",
    "8. Maximum: the maximum without outliers is around 185\n",
    "9. Maximum outliers: not observeable\n",
    "10. Maximum value: not observeable\n",
    "\n",
    "In this boxplot we analyzed the height of males in centimeters. There are no outliers observed. The Q1 starts at 170cm, the interquartilerange between 170cm-177cm and a Q3 starting at 177cm. The median value is 174cm. The maximum value without outliers is around 185cm. Outliers towards the upper end are not observed.\n",
    "\n",
    "We can thus conclue, that 50 percent of the participants lie between 170cm and 177cm. 25 percent are smaller from 160cm to 170cm and 25 percent are larger from 177cm to 185cm.\n"
   ]
  },
  {
   "cell_type": "code",
   "execution_count": 7,
   "id": "9dc6c7a6-438e-4da6-94b3-61c52384dfee",
   "metadata": {},
   "outputs": [
    {
     "data": {
      "text/plain": [
       "<AxesSubplot: >"
      ]
     },
     "execution_count": 7,
     "metadata": {},
     "output_type": "execute_result"
    },
    {
     "data": {
      "image/png": "[encoded data removed]",
      "text/plain": [
       "<Figure size 640x480 with 1 Axes>"
      ]
     },
     "metadata": {},
     "output_type": "display_data"
    }
   ],
   "source": [
    "sns.boxplot(data = weight_df['Weight(Pounds)'])"
   ]
  },
  {
   "cell_type": "markdown",
   "id": "b33c0d9d-5d96-4379-8989-025f2dd0395f",
   "metadata": {},
   "source": [
    "1. Minimum value: the minimum value is observable at 78 pounds.\n",
    "2. Minimum outliers: there are quite a few outliers observeable under the 95 pound mark.\n",
    "3. Minimum: the lowest non outlier data starts at 95 pounds.\n",
    "4. 25th Percentile / Q1: The Q1 starts at 120 pounds.\n",
    "5. Interquartilerange Q1-Q3: Between 120 and 135 pounds.\n",
    "6. Median / Q2: the median is around 130 pounds.\n",
    "7. 75th Percentile / Q3: The Q3 is around 135 pounds.\n",
    "8. Maximum: the maximum without outliers is around 159 pounds.\n",
    "9. Maximum outliers: there are outliers observable over the 159 pound mark.\n",
    "10. Maximum value: the maximum value is around 175.\n",
    "\n",
    "In this boxplot we analyzed the weight of people. This time many outliers are visible. The lightest person was 78 pounds. Other outliers were observeable up to the 95 pound mark. Q1 starts at 120 pounds and the interquartile range is between 120 and 135 pounds. We have an median weight of 130 pounds and a Q3 of around 135 pounds. The maximum is 159 pounds before outliers are visible towards the upper end. Here we can observe outliers from 159 pound up to 175.\n",
    "\n",
    "We can thus conclude, that 50 percent of the participants are between 120 and 135 pounds. 25 percent are lighter from 95 to 120 pounds and 25 percent are heavier from 135 to 159 pounds."
   ]
  },
  {
   "cell_type": "markdown",
   "id": "faff0529-aa44-4f41-903b-af3159203a88",
   "metadata": {},
   "source": [
    "**6.** How can you test your data for being normally distributed? \n",
    "\n",
    "By using Boxplots one can observe if the data is normally distributed by analyzing the outliers and the outer whiskers. If they have an equal distance to the Interquartile range, the data should be quite normally distributed and now skewed towards one side.\n",
    "\n",
    "Based on the boxplots one can make assumptions about the distribution of our data. Statements concerning the skewness can be made according to the median being tilted towards the maximum or minimum side. Outliers are visualized aswell, therefore one can easily make statements about the distribution of the data. \n",
    "\n",
    "However, downsides exists. For example, one can not interpret how many datapoints are actually analyzed. One shall therefore also look inside the dataset. Additionally, we can not grasp the amount of identical outliers as seen in the BMI example. Using statistical stats like the Shapiro Wilk test helps to undermine ones visual assumptions when using boxplots."
   ]
  }
 ],
 "metadata": {
  "kernelspec": {
   "display_name": "Python 3 (ipykernel)",
   "language": "python",
   "name": "python3"
  },
  "language_info": {
   "codemirror_mode": {
    "name": "ipython",
    "version": 3
   },
   "file_extension": ".py",
   "mimetype": "text/x-python",
   "name": "python",
   "nbconvert_exporter": "python",
   "pygments_lexer": "ipython3",
   "version": "3.9.15"
  }
 },
 "nbformat": 4,
 "nbformat_minor": 5
}

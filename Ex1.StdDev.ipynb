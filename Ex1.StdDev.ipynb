{
 "cells": [
  {
   "cell_type": "markdown",
   "id": "30faba28",
   "metadata": {},
   "source": [
    "<img src=\"https://www.th-koeln.de/img/logo.svg\" style=\"float:right;\" width=\"200\">"
   ]
  },
  {
   "cell_type": "markdown",
   "id": "863fa052",
   "metadata": {},
   "source": [
    "# 1st exercise: <font color=\"#C70039\">Work with standard deviations for anomaly detection</font>\n",
    "* Course: AML\n",
    "* Lecturer: <a href=\"https://www.gernotheisenberg.de/\">Gernot Heisenberg</a>\n",
    "* Author of notebook: <a href=\"https://www.gernotheisenberg.de/\">Gernot Heisenberg</a>\n",
    "* Student: Nicolas Rehbach\n",
    "* Matriculation Number: 11133387\n",
    "* Date:   24.10.2022\n",
    "\n",
    "<img src=\"https://upload.wikimedia.org/wikipedia/commons/thumb/8/8c/Standard_deviation_diagram.svg/1200px-Standard_deviation_diagram.svg.png\" style=\"float: center;\" width=\"450\">\n",
    "\n",
    "---------------------------------\n",
    "**GENERAL NOTE 1**: \n",
    "Please make sure you are reading the entire notebook, since it contains a lot of information on your tasks (e.g. regarding the set of certain paramaters or a specific computational trick), and the written mark downs as well as comments contain a lot of information on how things work together as a whole. \n",
    "\n",
    "**GENERAL NOTE 2**: \n",
    "* Please, when commenting source code, just use English language only. \n",
    "* When describing an observation please use English language, too\n",
    "* This applies to all exercises throughout this course.  \n",
    "\n",
    "---------------------\n",
    "\n",
    "### <font color=\"ce33ff\">DESCRIPTION</font>:\n",
    "This notebook allows you for getting into standard deviations as a common technique to detect anomalies when the data is normally distributed. \n",
    "\n",
    "-------------------------------------------------------------------------------------------------------------\n",
    "\n",
    "### <font color=\"FFC300\">TASKS</font>:\n",
    "The tasks that you need to work on within this notebook are always indicated below as bullet points. \n",
    "If a task is more challenging and consists of several steps, this is indicated as well. \n",
    "Make sure you have worked down the task list and commented your doings. \n",
    "This should be done by using markdown.<br> \n",
    "<font color=red>Make sure you don't forget to specify your name and your matriculation number in the notebook.</font>\n",
    "\n",
    "**YOUR TASKS in this exercise are as follows**:\n",
    "1. import the notebook to Google Colab or use your local machine.\n",
    "2. make sure you specified you name and your matriculation number in the header below my name and date. \n",
    "    * set the date too and remove mine.\n",
    "3. read the entire notebook carefully \n",
    "    * add comments whereever you feel it necessary for better understanding\n",
    "    * run the notebook for the first time.\n",
    "    * understand the output\n",
    "4. go and find three different data sets on the web \n",
    "    * kaggle.com might be a good source (they also offer an API for data download)\n",
    "    * make sure two of the three data sets are normally distributed\n",
    "    * download one data set that is not normally distributed\n",
    "5. visualize the data\n",
    "6. compute the anomalies\n",
    "7. visualize the anomalies\n",
    "8. does the 0,3% rule apply?\n",
    "9. what are differences between the normally distributed and the non-normally distributed data sets with respect to the outlier detection? \n",
    "10. which statement can be made and which cannot? \n",
    "-----------------------------------------------------------------------------------"
   ]
  },
  {
   "cell_type": "code",
   "execution_count": 1,
   "id": "39457131",
   "metadata": {},
   "outputs": [],
   "source": [
    "import pandas as pd\n",
    "import numpy as np\n",
    "import matplotlib.pyplot as plt\n",
    "from numpy.random import randn\n",
    "np.random.seed(1)\n",
    "\n",
    "import seaborn as sns"
   ]
  },
  {
   "cell_type": "code",
   "execution_count": 2,
   "id": "a79306f0",
   "metadata": {},
   "outputs": [],
   "source": [
    "# Function to Detection Outlier on one-dimentional datasets.\n",
    "def find_anomalies(random_data):\n",
    "    #define a list to accumlate anomalies\n",
    "    anomalies = []\n",
    "    \n",
    "    random_data_std = np.std(random_data)\n",
    "    random_data_mean = np.mean(random_data)\n",
    "    # Define our cut off (when is something an anomaly?)\n",
    "    # Third quartile of the std. deviation\n",
    "    anomaly_cut_off = random_data_std * 3\n",
    "    \n",
    "    # limits are the mean +/- our cut off\n",
    "    lower_limit  = random_data_mean - anomaly_cut_off \n",
    "    upper_limit = random_data_mean + anomaly_cut_off\n",
    "    \n",
    "    print(\"lower limit=\", round(lower_limit,8))\n",
    "    print(\"upper limit=\", round(upper_limit,8))\n",
    "    \n",
    "    # Generate outliers list\n",
    "    for outlier in random_data:\n",
    "        if outlier > upper_limit or outlier < lower_limit:\n",
    "            anomalies.append(outlier)\n",
    "    \n",
    "    return anomalies"
   ]
  },
  {
   "cell_type": "code",
   "execution_count": 3,
   "id": "f2d9fb08",
   "metadata": {},
   "outputs": [],
   "source": [
    "# multiply and add by random numbers to get some real values\n",
    "# randn generates samples from the normal distribution (important - see below)\n",
    "data = np.random.randn(50000) * 20 + 20"
   ]
  },
  {
   "cell_type": "code",
   "execution_count": 4,
   "id": "0d6c3958",
   "metadata": {},
   "outputs": [
    {
     "name": "stdout",
     "output_type": "stream",
     "text": [
      "lower limit= -39.96482266\n",
      "upper limit= 80.11636225\n"
     ]
    }
   ],
   "source": [
    "anomalies = find_anomalies(data)"
   ]
  },
  {
   "cell_type": "markdown",
   "id": "0983721c",
   "metadata": {},
   "source": [
    "## Result\n",
    "These anomalies are exceeding the lower and upper 3rd scatter range.\n",
    "Thus, statistically spoken, they do belong to a population size of less than 0,3% of the entire data set! \n",
    "For sure, the above conclusion is true if and only if the data is normally distributed!\n"
   ]
  },
  {
   "cell_type": "code",
   "execution_count": 5,
   "id": "16adae76",
   "metadata": {},
   "outputs": [
    {
     "name": "stdout",
     "output_type": "stream",
     "text": [
      "[80.61714224744061, 99.17205408075927, 86.4215751234073, -41.0752876085261, -43.06714900382097, -40.32063970418597, 88.65326863591119, -41.28282712210201, 94.80497807409178, 82.70094680175814, 84.76686393504752, -45.06068469953237, 82.64059456281011, 80.25509136474466, -43.81232693648161, -45.21230191553079, 88.08604551497943, 82.369591815651, 85.9708104656157, 82.97968050439259, -45.8971681339703, -41.11266480828613, 100.53698089094755, -44.38264211247683, 82.23783662033449, 92.26554014166295, 87.96231313004853, 91.21746641411097, -53.128801985095905, -45.641575926212354, 91.21225295344836, -43.46923274683489, 82.13498657145581, 82.90737927394908, -46.216851244091984, -41.9565310384887, -45.6065519410858, 80.5243698860871, -43.30420249353775, -42.25263324372853, 81.59215546151304, 103.36235355910189, 96.68762041821407, -40.586879558462776, -48.71851620008829, -45.18412137279293, 81.54158108441533, 84.5587224070789, -40.7688517191754, -44.08128900692253, -42.043297873881315, 87.71430311862296, 88.9391203157937, -40.52113314693459, -49.02805812510347, 86.72050502651298, -44.452278374625166, -58.55028132123577, 87.83885146048503, -41.810065776968784, -42.38237155225082, 91.19937116220078, 93.19531683513023, -41.0172829464469, 82.94710559091223, 86.8410257826826, -47.358945718270846, -47.27471768342224, -44.05283959700523, 81.39224116690686, -64.66329594864382, -41.91924535511986, 86.98293402121955, -42.78324538163221, -43.44070544512959, 83.14254869231635, 80.29722046012112, 80.97664481662183, -49.135306899574985, 90.95359817188209, 85.7504914101956, 90.63353726783707, -52.25624570621119, -48.427273980448774, 92.45148786479089, -40.60136533430394, 90.66197938200516, -40.652000332079666, 85.47272253055641, -40.59878231029168, -53.957837173283735, -40.80036485428288, 82.4740392321337, 82.69560613707037, -46.18148126636443, 86.9908487614501, 80.1457297060347, 82.24721888631221, -45.832275955612076, 84.176266941649, 84.4193809675114, -48.12080165824392, -47.66016305888587, 83.03299706691035, -46.34572895708007, -43.94127801481702, -44.888893484963376, 82.73490952329395, 83.57335544403156, 80.7727413101268, -52.50413207267792, -49.69745467233162, 80.22051938742219, -61.76977168084022, -41.57467213920625, -58.86284640187061, -51.197383857166216, -56.11928395638613, -48.85042290718998, -52.64159591899764, -40.858015925037485, 90.00512514161373, -44.150803760611865, 81.0757508416524, 88.42082610751223, -48.97515466922074, -41.87410601743178, 81.91272478059072, 84.69303765209298, -40.93984641793596, -52.615615036883995, -49.39834453038375, 84.48319182306491, 80.41393381216217, 89.04319371214211, 83.11545348720793, 86.3948526034166, -54.34260433053814, -53.884089553553295, -60.83360878272147, -45.502951473453436, -42.84117089742673]\n"
     ]
    }
   ],
   "source": [
    "print(anomalies)"
   ]
  },
  {
   "cell_type": "markdown",
   "id": "44b923c9-3c34-4887-bfa7-34f0b67e5c4a",
   "metadata": {},
   "source": [
    "## Using three datasets from kaggle"
   ]
  },
  {
   "cell_type": "markdown",
   "id": "505e6b68",
   "metadata": {},
   "source": [
    "4. Used datasets are from kaggle and can be found at the following links:\n",
    "\n",
    "- [Diabetes dataset](https://www.kaggle.com/datasets/akshaydattatraykhare/diabetes-dataset)\n",
    "- [Height dataset](https://www.kaggle.com/datasets/burnoutminer/heights-and-weights-dataset)\n",
    "- [Weight dataset](https://www.kaggle.com/datasets/majyhain/height-of-male-and-female-by-country-2022)"
   ]
  },
  {
   "cell_type": "code",
   "execution_count": 6,
   "id": "e5efe166-5f96-4512-a027-5dd4f495a35d",
   "metadata": {},
   "outputs": [],
   "source": [
    "#https://www.kaggle.com/datasets/akshaydattatraykhare/diabetes-dataset\n",
    "#https://www.kaggle.com/datasets/burnoutminer/heights-and-weights-dataset\n",
    "#https://www.kaggle.com/datasets/majyhain/height-of-male-and-female-by-country-2022\n",
    "\n",
    "diabetes_df = pd.read_csv('./data/diabetes.csv')\n",
    "height_df = pd.read_csv('./data/Height of Male and Female by Country 2022.csv')\n",
    "weight_df = pd.read_csv('./data/SOCR-HeightWeight.csv')\n",
    "\n",
    "diabetes_df = diabetes_df.dropna()\n",
    "height_df = height_df.dropna()\n",
    "weight_df = weight_df.dropna()"
   ]
  },
  {
   "cell_type": "markdown",
   "id": "f13853b9-a2c1-4b5d-8846-174aa4db91f3",
   "metadata": {},
   "source": [
    "**5.** Visualize the data"
   ]
  },
  {
   "cell_type": "code",
   "execution_count": 7,
   "id": "0235c95b-2a63-46a4-8d52-7c90294b751d",
   "metadata": {},
   "outputs": [
    {
     "name": "stderr",
     "output_type": "stream",
     "text": [
      "/var/folders/vc/33g3tqwn4c59qnzswhnf6ry00000gn/T/ipykernel_60459/2316242037.py:5: UserWarning: \n",
      "\n",
      "`distplot` is a deprecated function and will be removed in seaborn v0.14.0.\n",
      "\n",
      "Please adapt your code to use either `displot` (a figure-level function with\n",
      "similar flexibility) or `histplot` (an axes-level function for histograms).\n",
      "\n",
      "For a guide to updating your code to use the new functions, please see\n",
      "https://gist.github.com/mwaskom/de44147ed2974457ad6372750bbe5751\n",
      "\n",
      "  sns.distplot(bmi)\n"
     ]
    },
    {
     "data": {
      "text/plain": [
       "<AxesSubplot: xlabel='BMI', ylabel='Density'>"
      ]
     },
     "execution_count": 7,
     "metadata": {},
     "output_type": "execute_result"
    },
    {
     "data": {
      "image/png": "[encoded data removed]",
      "text/plain": [
       "<Figure size 640x480 with 1 Axes>"
      ]
     },
     "metadata": {},
     "output_type": "display_data"
    }
   ],
   "source": [
    "import matplotlib.pyplot as plt\n",
    "from scipy import stats\n",
    "\n",
    "bmi = diabetes_df['BMI']\n",
    "sns.distplot(bmi)"
   ]
  },
  {
   "cell_type": "markdown",
   "id": "b148cad4",
   "metadata": {},
   "source": [
    "Besides from analyzing the distribution of our underlying data, one can also determine normal distribution through the Shapiro Wilk test. A pvalue below 0.05 indicates, that the data is not normally distributed."
   ]
  },
  {
   "cell_type": "code",
   "execution_count": 8,
   "id": "30a70071-60f3-4a6c-ac35-ec8acbd9398b",
   "metadata": {},
   "outputs": [
    {
     "data": {
      "text/plain": [
       "ShapiroResult(statistic=0.9499893188476562, pvalue=1.840968936133282e-15)"
      ]
     },
     "execution_count": 8,
     "metadata": {},
     "output_type": "execute_result"
    }
   ],
   "source": [
    "stats.shapiro(bmi)"
   ]
  },
  {
   "cell_type": "code",
   "execution_count": 9,
   "id": "b19831ad-37e3-4058-a5db-3e15df77d677",
   "metadata": {},
   "outputs": [
    {
     "name": "stderr",
     "output_type": "stream",
     "text": [
      "/var/folders/vc/33g3tqwn4c59qnzswhnf6ry00000gn/T/ipykernel_60459/3348447874.py:2: UserWarning: \n",
      "\n",
      "`distplot` is a deprecated function and will be removed in seaborn v0.14.0.\n",
      "\n",
      "Please adapt your code to use either `displot` (a figure-level function with\n",
      "similar flexibility) or `histplot` (an axes-level function for histograms).\n",
      "\n",
      "For a guide to updating your code to use the new functions, please see\n",
      "https://gist.github.com/mwaskom/de44147ed2974457ad6372750bbe5751\n",
      "\n",
      "  sns.distplot(weight)\n"
     ]
    },
    {
     "data": {
      "text/plain": [
       "<AxesSubplot: xlabel='Weight(Pounds)', ylabel='Density'>"
      ]
     },
     "execution_count": 9,
     "metadata": {},
     "output_type": "execute_result"
    },
    {
     "data": {
      "image/png": "[encoded data removed]",
      "text/plain": [
       "<Figure size 640x480 with 1 Axes>"
      ]
     },
     "metadata": {},
     "output_type": "display_data"
    }
   ],
   "source": [
    "weight = weight_df['Weight(Pounds)']\n",
    "sns.distplot(weight)"
   ]
  },
  {
   "cell_type": "code",
   "execution_count": 10,
   "id": "43c2a80d-4de9-4e8a-8586-df83b0723f31",
   "metadata": {},
   "outputs": [
    {
     "name": "stderr",
     "output_type": "stream",
     "text": [
      "/Users/nicolasrehbach/miniforge3/envs/aml/lib/python3.9/site-packages/scipy/stats/_morestats.py:1800: UserWarning: p-value may not be accurate for N > 5000.\n",
      "  warnings.warn(\"p-value may not be accurate for N > 5000.\")\n"
     ]
    },
    {
     "data": {
      "text/plain": [
       "ShapiroResult(statistic=0.999895453453064, pvalue=0.37611162662506104)"
      ]
     },
     "execution_count": 10,
     "metadata": {},
     "output_type": "execute_result"
    }
   ],
   "source": [
    "stats.shapiro(weight)"
   ]
  },
  {
   "cell_type": "code",
   "execution_count": 11,
   "id": "d5e633d8-d32b-4240-8fa3-19529dc14835",
   "metadata": {},
   "outputs": [
    {
     "name": "stderr",
     "output_type": "stream",
     "text": [
      "/var/folders/vc/33g3tqwn4c59qnzswhnf6ry00000gn/T/ipykernel_60459/1451902263.py:2: UserWarning: \n",
      "\n",
      "`distplot` is a deprecated function and will be removed in seaborn v0.14.0.\n",
      "\n",
      "Please adapt your code to use either `displot` (a figure-level function with\n",
      "similar flexibility) or `histplot` (an axes-level function for histograms).\n",
      "\n",
      "For a guide to updating your code to use the new functions, please see\n",
      "https://gist.github.com/mwaskom/de44147ed2974457ad6372750bbe5751\n",
      "\n",
      "  sns.distplot(height)\n"
     ]
    },
    {
     "data": {
      "text/plain": [
       "<AxesSubplot: xlabel='Male Height in Cm', ylabel='Density'>"
      ]
     },
     "execution_count": 11,
     "metadata": {},
     "output_type": "execute_result"
    },
    {
     "data": {
      "image/png": "[encoded data removed]",
      "text/plain": [
       "<Figure size 640x480 with 1 Axes>"
      ]
     },
     "metadata": {},
     "output_type": "display_data"
    }
   ],
   "source": [
    "height = height_df['Male Height in Cm']\n",
    "sns.distplot(height)"
   ]
  },
  {
   "cell_type": "code",
   "execution_count": 12,
   "id": "15c888b3-b408-4347-a541-044f1025dd01",
   "metadata": {},
   "outputs": [
    {
     "data": {
      "text/plain": [
       "ShapiroResult(statistic=0.9877829551696777, pvalue=0.08522681146860123)"
      ]
     },
     "execution_count": 12,
     "metadata": {},
     "output_type": "execute_result"
    }
   ],
   "source": [
    "stats.shapiro(height)"
   ]
  },
  {
   "cell_type": "markdown",
   "id": "c3ab46f1-ac21-478f-8a2e-b2c12ced7f8b",
   "metadata": {},
   "source": [
    "Using the Shapiro Wilk Test, one can observe two pvalues over 0.05 (therefore standard deviated datasets) and one dataset with less than 0.05."
   ]
  },
  {
   "cell_type": "markdown",
   "id": "c62edae9-168c-47fe-84bd-3952bd351064",
   "metadata": {},
   "source": [
    "**6.** Compute the anomalies"
   ]
  },
  {
   "cell_type": "markdown",
   "id": "bfee04a3",
   "metadata": {},
   "source": [
    "Computing the anomalies by using the previously defined function."
   ]
  },
  {
   "cell_type": "code",
   "execution_count": 13,
   "id": "df406e63-40c8-4b05-991f-6db41ce65a48",
   "metadata": {},
   "outputs": [
    {
     "name": "stdout",
     "output_type": "stream",
     "text": [
      "lower limit= 8.35550093\n",
      "upper limit= 55.62965532\n",
      "Total anomalies: 14\n"
     ]
    }
   ],
   "source": [
    "bmiAnomalies = 0\n",
    "for i in find_anomalies(bmi):\n",
    "    bmiAnomalies = bmiAnomalies + 1\n",
    "print('Total anomalies:', bmiAnomalies)"
   ]
  },
  {
   "cell_type": "code",
   "execution_count": 14,
   "id": "6cef76b3-2efb-4974-97ad-53215702aada",
   "metadata": {},
   "outputs": [
    {
     "data": {
      "text/plain": [
       "count    768.000000\n",
       "mean      31.992578\n",
       "std        7.884160\n",
       "min        0.000000\n",
       "25%       27.300000\n",
       "50%       32.000000\n",
       "75%       36.600000\n",
       "max       67.100000\n",
       "Name: BMI, dtype: float64"
      ]
     },
     "execution_count": 14,
     "metadata": {},
     "output_type": "execute_result"
    }
   ],
   "source": [
    "bmi.describe()"
   ]
  },
  {
   "cell_type": "code",
   "execution_count": 15,
   "id": "e2eab217-e7e8-4d2b-bfc2-75971b941dd4",
   "metadata": {},
   "outputs": [
    {
     "name": "stdout",
     "output_type": "stream",
     "text": [
      "lower limit= 92.09742813\n",
      "upper limit= 162.06141419\n",
      "Total anomalies: 69\n"
     ]
    }
   ],
   "source": [
    "weightAnomalies = 0\n",
    "for i in find_anomalies(weight):\n",
    "    weightAnomalies = weightAnomalies + 1\n",
    "print('Total anomalies:', weightAnomalies)"
   ]
  },
  {
   "cell_type": "code",
   "execution_count": 16,
   "id": "bff0408e-6800-4084-bace-4ff300554c2e",
   "metadata": {},
   "outputs": [
    {
     "data": {
      "text/plain": [
       "count    25000.000000\n",
       "mean       127.079421\n",
       "std         11.660898\n",
       "min         78.014760\n",
       "25%        119.308675\n",
       "50%        127.157750\n",
       "75%        134.892850\n",
       "max        170.924000\n",
       "Name: Weight(Pounds), dtype: float64"
      ]
     },
     "execution_count": 16,
     "metadata": {},
     "output_type": "execute_result"
    }
   ],
   "source": [
    "weight.describe()"
   ]
  },
  {
   "cell_type": "code",
   "execution_count": 17,
   "id": "6d29acdb-2b9f-491a-b9d5-28403fc5b1a7",
   "metadata": {},
   "outputs": [
    {
     "name": "stdout",
     "output_type": "stream",
     "text": [
      "lower limit= 158.27690586\n",
      "upper limit= 187.9011846\n",
      "Total anomalies: 0\n"
     ]
    }
   ],
   "source": [
    "heightAnomalies = 0\n",
    "for i in find_anomalies(height):\n",
    "    heightAnomalies = heightAnomalies + 1\n",
    "print('Total anomalies:', heightAnomalies)"
   ]
  },
  {
   "cell_type": "code",
   "execution_count": 18,
   "id": "39d1947a",
   "metadata": {},
   "outputs": [
    {
     "data": {
      "text/plain": [
       "count    199.000000\n",
       "mean     173.089045\n",
       "std        4.949832\n",
       "min      160.130000\n",
       "25%      169.490000\n",
       "50%      173.530000\n",
       "75%      176.510000\n",
       "max      183.780000\n",
       "Name: Male Height in Cm, dtype: float64"
      ]
     },
     "execution_count": 18,
     "metadata": {},
     "output_type": "execute_result"
    }
   ],
   "source": [
    "height.describe()"
   ]
  },
  {
   "cell_type": "markdown",
   "id": "90e4ddef",
   "metadata": {},
   "source": [
    "For the BMI and weight datasets, we can observe the outliers at the upper and lower end of the extremes. The height has no anomalies with 158cm being the threshhold and a minimum value of 160. Also the upper end is not met with 187cm and a max of 184."
   ]
  },
  {
   "cell_type": "markdown",
   "id": "0caf33cc-1ce9-4f4c-aab8-a7ac281289bb",
   "metadata": {},
   "source": [
    "**7.** Visualize the anomalies"
   ]
  },
  {
   "cell_type": "code",
   "execution_count": 19,
   "id": "6ff8f970-d326-4840-a37c-6ce35eb395b1",
   "metadata": {
    "scrolled": true
   },
   "outputs": [
    {
     "name": "stdout",
     "output_type": "stream",
     "text": [
      "lower limit= 8.35550093\n",
      "upper limit= 55.62965532\n"
     ]
    }
   ],
   "source": [
    "# creating an isAnomaly column, which is 1 for true\n",
    "bmi_anomalies = pd.DataFrame(find_anomalies(bmi))\n",
    "bmi_anomalies = bmi_anomalies.rename(columns={0: 'BMI'})\n",
    "bmi_anomalies = bmi_anomalies.groupby('BMI').count()\n",
    "\n",
    "bmi_anomalies['isAnomaly'] = 1\n",
    "\n",
    "bmi_anomalies = bmi_anomalies.reset_index()"
   ]
  },
  {
   "cell_type": "code",
   "execution_count": 20,
   "id": "73097e2b-26f5-420f-94d2-e3847a314786",
   "metadata": {},
   "outputs": [],
   "source": [
    "bmi = pd.DataFrame(bmi)\n",
    "bmi['isAnomaly'] = 0"
   ]
  },
  {
   "cell_type": "code",
   "execution_count": 21,
   "id": "8f0dc529",
   "metadata": {},
   "outputs": [
    {
     "name": "stderr",
     "output_type": "stream",
     "text": [
      "/var/folders/vc/33g3tqwn4c59qnzswhnf6ry00000gn/T/ipykernel_60459/1213754561.py:4: SettingWithCopyWarning: \n",
      "A value is trying to be set on a copy of a slice from a DataFrame\n",
      "\n",
      "See the caveats in the documentation: https://pandas.pydata.org/pandas-docs/stable/user_guide/indexing.html#returning-a-view-versus-a-copy\n",
      "  bmi['isAnomaly'][i] = 1\n"
     ]
    }
   ],
   "source": [
    "# loop through our data and compare the bmi to our threshholds\n",
    "for i in range(0, len(bmi)):\n",
    "    if bmi['BMI'][i] < 8.35 or bmi['BMI'][i] > 55.6:\n",
    "        bmi['isAnomaly'][i] = 1"
   ]
  },
  {
   "cell_type": "code",
   "execution_count": 22,
   "id": "d1225a27",
   "metadata": {
    "scrolled": false
   },
   "outputs": [
    {
     "data": {
      "text/plain": [
       "<AxesSubplot: xlabel='BMI', ylabel='isAnomaly'>"
      ]
     },
     "execution_count": 22,
     "metadata": {},
     "output_type": "execute_result"
    },
    {
     "data": {
      "image/png": "[encoded data removed]",
      "text/plain": [
       "<Figure size 640x480 with 1 Axes>"
      ]
     },
     "metadata": {},
     "output_type": "display_data"
    }
   ],
   "source": [
    "sns.scatterplot(data = bmi, x = 'BMI', y = 'isAnomaly')"
   ]
  },
  {
   "cell_type": "code",
   "execution_count": 23,
   "id": "c8bcef6c",
   "metadata": {},
   "outputs": [
    {
     "name": "stdout",
     "output_type": "stream",
     "text": [
      "lower limit= 92.09742813\n",
      "upper limit= 162.06141419\n"
     ]
    }
   ],
   "source": [
    "# creating an isAnomaly column, which is 1 for true\n",
    "weight_anomalies = pd.DataFrame(find_anomalies(weight))\n",
    "weight_anomalies = weight_anomalies.rename(columns={0: 'weight'})\n",
    "weight_anomalies = weight_anomalies.groupby('weight').count()\n",
    "\n",
    "weight_anomalies['isAnomaly'] = 1\n",
    "\n",
    "weight_anomalies = weight_anomalies.reset_index()"
   ]
  },
  {
   "cell_type": "code",
   "execution_count": 24,
   "id": "3e8b33e2",
   "metadata": {},
   "outputs": [],
   "source": [
    "weight = pd.DataFrame(weight)\n",
    "weight['isAnomaly'] = 0"
   ]
  },
  {
   "cell_type": "code",
   "execution_count": 25,
   "id": "30868849",
   "metadata": {},
   "outputs": [
    {
     "name": "stderr",
     "output_type": "stream",
     "text": [
      "/var/folders/vc/33g3tqwn4c59qnzswhnf6ry00000gn/T/ipykernel_60459/1208007569.py:3: SettingWithCopyWarning: \n",
      "A value is trying to be set on a copy of a slice from a DataFrame\n",
      "\n",
      "See the caveats in the documentation: https://pandas.pydata.org/pandas-docs/stable/user_guide/indexing.html#returning-a-view-versus-a-copy\n",
      "  weight['isAnomaly'][i] = 1\n"
     ]
    }
   ],
   "source": [
    "for i in range(0, len(weight)):\n",
    "    if weight['Weight(Pounds)'][i] < 92.09742813 or weight['Weight(Pounds)'][i] > 162.06141419:\n",
    "        weight['isAnomaly'][i] = 1"
   ]
  },
  {
   "cell_type": "code",
   "execution_count": 26,
   "id": "148683f6",
   "metadata": {},
   "outputs": [
    {
     "data": {
      "text/plain": [
       "<AxesSubplot: xlabel='Weight(Pounds)', ylabel='isAnomaly'>"
      ]
     },
     "execution_count": 26,
     "metadata": {},
     "output_type": "execute_result"
    },
    {
     "data": {
      "image/png": "[encoded data removed]",
      "text/plain": [
       "<Figure size 640x480 with 1 Axes>"
      ]
     },
     "metadata": {},
     "output_type": "display_data"
    }
   ],
   "source": [
    "sns.scatterplot(data = weight, x = 'Weight(Pounds)', y = 'isAnomaly')"
   ]
  },
  {
   "cell_type": "markdown",
   "id": "c490ee6b-471c-4c6f-b622-5e007ccd82f5",
   "metadata": {},
   "source": [
    "One can observe visually and by using the Shapiro Wilk test that two out of three datasets are normally distributed.\n",
    "Visually, the outliers in the BMI dataset can be clearly seen. The other two datasets follow a relatively normal distribution.\n",
    "By using the Shapiro Wilk test, we can reinforce the statement of normal distribution by analyzing the p-value. Since the p-value of dataset 2 and 3 are over 0.05 we can conclude a normal distribution. "
   ]
  },
  {
   "cell_type": "markdown",
   "id": "6236f5f0-e85a-4b40-84bd-e3242f51502c",
   "metadata": {},
   "source": [
    "**8.** does the 0,3% rule apply?"
   ]
  },
  {
   "cell_type": "code",
   "execution_count": 27,
   "id": "0d8181dd-2732-453a-bcf3-815651b90158",
   "metadata": {
    "scrolled": true
   },
   "outputs": [
    {
     "name": "stdout",
     "output_type": "stream",
     "text": [
      "bmi percentage: 0.009114583333333334\n",
      "weight percentage: 0.00138\n",
      "height percentage: 0.0\n"
     ]
    }
   ],
   "source": [
    "print(\"bmi percentage:\", bmiAnomalies/bmi.size)\n",
    "print(\"weight percentage:\", weightAnomalies / weight.size)\n",
    "print(\"height percentage:\", heightAnomalies/height.size)"
   ]
  },
  {
   "cell_type": "markdown",
   "id": "1d5f373e-da28-4ddb-9cb9-0082839635f9",
   "metadata": {},
   "source": [
    "**What is the .3 % rule?**\n",
    "\n",
    "99.7% of the observations lie within the third quartiles of the mean standard deviation.\n",
    "\n",
    "The 0.3 percent rule applies for our datasets. The bmi dataset (non normal distributed) has a anomaly percentage of 0.9 percent. Our weight and height datasets come to 0.2 percent and 0 percent. "
   ]
  },
  {
   "cell_type": "markdown",
   "id": "c7a28b38-4e46-4f07-9d38-371fa0e7b0cb",
   "metadata": {},
   "source": [
    "**9.** What are differences between the normally distributed and the non-normally distributed data sets with respect to the outlier detection?\n"
   ]
  },
  {
   "cell_type": "markdown",
   "id": "6f3af92a-97b6-452c-a249-3fdc49fb9f02",
   "metadata": {},
   "source": [
    "We can observe, that the normally distributed datasets have far less or optimally no outliers. Additionally, one can observe the outliers visually in the non-normally distributed dataset and a higher amount of anomalies detected by the find_anomalies function."
   ]
  },
  {
   "cell_type": "markdown",
   "id": "682c9642-6cf7-4778-b033-b79f7b8d2227",
   "metadata": {},
   "source": [
    "**10.** Which statement can be made and which cannot?"
   ]
  },
  {
   "cell_type": "markdown",
   "id": "a0517025-16c5-4b72-84bb-0b8ab8f37bba",
   "metadata": {},
   "source": [
    "Based on the standard deviation we can make general assumptions about our data but also about new data concerning the same variables. Additionally, the standard deviation is used for many ML algorithms e.g. the Linear Regression.\n",
    "\n",
    "We can observe, that the weight and height in two datasets are normally distributed. One can conclude, that the humans included inside the dataset normally weight between 92 and 162 pounds. In terms of the height the normal male height is between 158 and 188cm according to the data. \n",
    "\n",
    "In terms of the bmi, the normal range lies between 8.4 and 55.6. In this case, the problem of using the standard deviation to analyze anomalies can be detected. A BMI of 8.4 can not exist, however without domain knowledge wrong statements could be made based on the standard deviation. "
   ]
  }
 ],
 "metadata": {
  "kernelspec": {
   "display_name": "Python 3 (ipykernel)",
   "language": "python",
   "name": "python3"
  },
  "language_info": {
   "codemirror_mode": {
    "name": "ipython",
    "version": 3
   },
   "file_extension": ".py",
   "mimetype": "text/x-python",
   "name": "python",
   "nbconvert_exporter": "python",
   "pygments_lexer": "ipython3",
   "version": "3.9.15"
  }
 },
 "nbformat": 4,
 "nbformat_minor": 5
}

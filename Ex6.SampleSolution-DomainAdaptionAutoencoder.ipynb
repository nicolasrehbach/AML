{
 "cells": [
  {
   "cell_type": "markdown",
   "id": "3c8d5a65",
   "metadata": {},
   "source": [
    "<img src=\"https://www.th-koeln.de/img/logo.svg\" style=\"float:right;\" width=\"200\">"
   ]
  },
  {
   "cell_type": "markdown",
   "id": "6aa99fd9",
   "metadata": {},
   "source": [
    "# Musterlösung / Sample solution \n",
    "## 6th exercise: <font color=\"#C70039\">Domain Adaption with Autoencoders</font>\n",
    "* Course: AML\n",
    "* Lecturer: <a href=\"https://www.gernotheisenberg.de/\">Gernot Heisenberg</a>\n",
    "* Author of notebook: <a href=\"https://www.gernotheisenberg.de/\">Gernot Heisenberg</a>\n",
    "* Date:   29.06.2022\n",
    "\n",
    "---------------------------------\n",
    "\n",
    "### Description \n",
    "This is one implementation example to demo the image reconstruction using autoencoders for domain adaption. \n",
    "PLease do not miss to try different optimizers and losses.\n",
    "\n",
    "---------------------------------"
   ]
  },
  {
   "cell_type": "code",
   "execution_count": 5,
   "id": "a50f3435",
   "metadata": {},
   "outputs": [],
   "source": [
    "from matplotlib import pyplot as plt\n",
    "import numpy as np\n",
    "import cv2\n",
    "import tensorflow as tf\n",
    "from tensorflow.keras.preprocessing.image import img_to_array\n",
    "from tensorflow.keras.layers import Conv2D, MaxPooling2D, UpSampling2D\n",
    "from tensorflow.keras.models import Sequential\n",
    "import os\n",
    "from   tqdm import tqdm\n",
    "import time"
   ]
  },
  {
   "cell_type": "code",
   "execution_count": 6,
   "id": "df24b693",
   "metadata": {},
   "outputs": [
    {
     "name": "stderr",
     "output_type": "stream",
     "text": [
      "100%|█████████████████████████████████████████████████████████████████████████████████| 50/50 [00:00<00:00, 746.19it/s]\n",
      "100%|█████████████████████████████████████████████████████████████████████████████████| 50/50 [00:00<00:00, 735.27it/s]\n"
     ]
    }
   ],
   "source": [
    "SIZE=256\n",
    "\n",
    "# import input img\n",
    "input_img_data=[]\n",
    "input_path = './data/heisenberg_heisenberg/gernot/'\n",
    "files=os.listdir(input_path)\n",
    "# read all images in the folder (different rotations and flips of the original)\n",
    "for i in tqdm(files):\n",
    "    img=cv2.imread(input_path+'/'+i,1)   #Change 0 to 1 for color images\n",
    "    img=cv2.resize(img,(SIZE, SIZE))\n",
    "    input_img_data.append(img_to_array(img))\n",
    "# -----------------------------------------  \n",
    "# import output_img\n",
    "output_img_data=[]\n",
    "output_path = './data/heisenberg_heisenberg/walter/'\n",
    "files=os.listdir(output_path)\n",
    "# read all images in the folder (same rotations and flips as img)\n",
    "for i in tqdm(files):\n",
    "    img=cv2.imread(output_path+'/'+i,1)  #Change 0 to 1 for color images\n",
    "    img=cv2.resize(img,(SIZE, SIZE))\n",
    "    output_img_data.append(img_to_array(img))\n",
    "\n",
    "input_img_array = np.reshape(input_img_data, (len(input_img_data), SIZE, SIZE, 3))\n",
    "input_img_array = input_img_array.astype('float32') / 255. # normalize\n",
    "output_img_array= np.reshape(output_img_data, (len(output_img_data), SIZE, SIZE, 3))\n",
    "output_img_array = output_img_array.astype('float32') / 255. # normalize\n",
    "\n",
    "# Original image for prediction of output_img \n",
    "# this one does not belong to the training set\n",
    "test_img_data=[]\n",
    "\n",
    "test_img=cv2.imread('./data/heisenberg_heisenberg/gernot-heisenberg-original.jpg', 1)   #Change 0 to 1 for color images\n",
    "test_img = cv2.cvtColor(test_img, cv2.COLOR_BGR2RGB)#Changing BGR to RGB to show images in true colors\n",
    "test_img=cv2.resize(test_img,(SIZE, SIZE))\n",
    "test_img_data.append(img_to_array(test_img))\n",
    "\n",
    "test_img_array = np.reshape(test_img_data, (len(test_img_data), SIZE, SIZE, 3))\n",
    "test_img_array = test_img_array.astype('float32') / 255. # normalize\n",
    "\n",
    "# set the start time\n",
    "# later needed for calculating the computation time\n",
    "start=time.time()"
   ]
  },
  {
   "cell_type": "markdown",
   "id": "20dd69aa",
   "metadata": {},
   "source": [
    "## Build the autoencoder-decoder model"
   ]
  },
  {
   "cell_type": "code",
   "execution_count": 7,
   "id": "6ae50643",
   "metadata": {},
   "outputs": [
    {
     "name": "stdout",
     "output_type": "stream",
     "text": [
      "Model: \"sequential_1\"\n",
      "_________________________________________________________________\n",
      "Layer (type)                 Output Shape              Param #   \n",
      "=================================================================\n",
      "conv2d_7 (Conv2D)            (None, 256, 256, 32)      896       \n",
      "_________________________________________________________________\n",
      "max_pooling2d_3 (MaxPooling2 (None, 128, 128, 32)      0         \n",
      "_________________________________________________________________\n",
      "conv2d_8 (Conv2D)            (None, 128, 128, 8)       2312      \n",
      "_________________________________________________________________\n",
      "max_pooling2d_4 (MaxPooling2 (None, 64, 64, 8)         0         \n",
      "_________________________________________________________________\n",
      "conv2d_9 (Conv2D)            (None, 64, 64, 8)         584       \n",
      "_________________________________________________________________\n",
      "max_pooling2d_5 (MaxPooling2 (None, 32, 32, 8)         0         \n",
      "_________________________________________________________________\n",
      "conv2d_10 (Conv2D)           (None, 32, 32, 8)         584       \n",
      "_________________________________________________________________\n",
      "up_sampling2d_3 (UpSampling2 (None, 64, 64, 8)         0         \n",
      "_________________________________________________________________\n",
      "conv2d_11 (Conv2D)           (None, 64, 64, 8)         584       \n",
      "_________________________________________________________________\n",
      "up_sampling2d_4 (UpSampling2 (None, 128, 128, 8)       0         \n",
      "_________________________________________________________________\n",
      "conv2d_12 (Conv2D)           (None, 128, 128, 32)      2336      \n",
      "_________________________________________________________________\n",
      "up_sampling2d_5 (UpSampling2 (None, 256, 256, 32)      0         \n",
      "_________________________________________________________________\n",
      "conv2d_13 (Conv2D)           (None, 256, 256, 3)       867       \n",
      "=================================================================\n",
      "Total params: 8,163\n",
      "Trainable params: 8,163\n",
      "Non-trainable params: 0\n",
      "_________________________________________________________________\n",
      "Train on 50 samples\n",
      "Epoch 1/50\n",
      "50/50 [==============================] - 7s 146ms/sample - loss: 0.1566 - accuracy: 0.5193\n",
      "Epoch 2/50\n",
      "50/50 [==============================] - 6s 125ms/sample - loss: 0.1516 - accuracy: 0.9214\n",
      "Epoch 3/50\n",
      "50/50 [==============================] - 6s 127ms/sample - loss: 0.1434 - accuracy: 0.9495\n",
      "Epoch 4/50\n",
      "50/50 [==============================] - 6s 127ms/sample - loss: 0.1294 - accuracy: 0.9547\n",
      "Epoch 5/50\n",
      "50/50 [==============================] - 6s 125ms/sample - loss: 0.1089 - accuracy: 0.9583\n",
      "Epoch 6/50\n",
      "50/50 [==============================] - 6s 125ms/sample - loss: 0.0852 - accuracy: 0.9594\n",
      "Epoch 7/50\n",
      "50/50 [==============================] - 6s 125ms/sample - loss: 0.0765 - accuracy: 0.9596\n",
      "Epoch 8/50\n",
      "50/50 [==============================] - 6s 126ms/sample - loss: 0.0836 - accuracy: 0.9597\n",
      "Epoch 9/50\n",
      "50/50 [==============================] - 6s 126ms/sample - loss: 0.0743 - accuracy: 0.9597\n",
      "Epoch 10/50\n",
      "50/50 [==============================] - 6s 127ms/sample - loss: 0.0705 - accuracy: 0.9597\n",
      "Epoch 11/50\n",
      "50/50 [==============================] - 6s 127ms/sample - loss: 0.0720 - accuracy: 0.9597\n",
      "Epoch 12/50\n",
      "50/50 [==============================] - 6s 123ms/sample - loss: 0.0725 - accuracy: 0.9597\n",
      "Epoch 13/50\n",
      "50/50 [==============================] - 6s 126ms/sample - loss: 0.0714 - accuracy: 0.9597\n",
      "Epoch 14/50\n",
      "50/50 [==============================] - 6s 129ms/sample - loss: 0.0696 - accuracy: 0.9597\n",
      "Epoch 15/50\n",
      "50/50 [==============================] - 6s 124ms/sample - loss: 0.0690 - accuracy: 0.9597\n",
      "Epoch 16/50\n",
      "50/50 [==============================] - 6s 124ms/sample - loss: 0.0689 - accuracy: 0.9597\n",
      "Epoch 17/50\n",
      "50/50 [==============================] - 6s 125ms/sample - loss: 0.0680 - accuracy: 0.9597\n",
      "Epoch 18/50\n",
      "50/50 [==============================] - 6s 126ms/sample - loss: 0.0673 - accuracy: 0.9597\n",
      "Epoch 19/50\n",
      "50/50 [==============================] - 6s 126ms/sample - loss: 0.0674 - accuracy: 0.9597\n",
      "Epoch 20/50\n",
      "50/50 [==============================] - 6s 129ms/sample - loss: 0.0670 - accuracy: 0.9597\n",
      "Epoch 21/50\n",
      "50/50 [==============================] - 6s 124ms/sample - loss: 0.0665 - accuracy: 0.9597\n",
      "Epoch 22/50\n",
      "50/50 [==============================] - 6s 125ms/sample - loss: 0.0666 - accuracy: 0.9597\n",
      "Epoch 23/50\n",
      "50/50 [==============================] - 6s 125ms/sample - loss: 0.0664 - accuracy: 0.9597\n",
      "Epoch 24/50\n",
      "50/50 [==============================] - 6s 126ms/sample - loss: 0.0659 - accuracy: 0.9597\n",
      "Epoch 25/50\n",
      "50/50 [==============================] - 6s 129ms/sample - loss: 0.0656 - accuracy: 0.9597\n",
      "Epoch 26/50\n",
      "50/50 [==============================] - 6s 126ms/sample - loss: 0.0653 - accuracy: 0.9597\n",
      "Epoch 27/50\n",
      "50/50 [==============================] - 7s 130ms/sample - loss: 0.0653 - accuracy: 0.9597\n",
      "Epoch 28/50\n",
      "50/50 [==============================] - 6s 126ms/sample - loss: 0.0650 - accuracy: 0.9597\n",
      "Epoch 29/50\n",
      "50/50 [==============================] - 6s 124ms/sample - loss: 0.0649 - accuracy: 0.9597\n",
      "Epoch 30/50\n",
      "50/50 [==============================] - 6s 126ms/sample - loss: 0.0646 - accuracy: 0.9597\n",
      "Epoch 31/50\n",
      "50/50 [==============================] - 6s 127ms/sample - loss: 0.0645 - accuracy: 0.9597\n",
      "Epoch 32/50\n",
      "50/50 [==============================] - 6s 124ms/sample - loss: 0.0644 - accuracy: 0.9597\n",
      "Epoch 33/50\n",
      "50/50 [==============================] - 6s 126ms/sample - loss: 0.0641 - accuracy: 0.9597\n",
      "Epoch 34/50\n",
      "50/50 [==============================] - 6s 125ms/sample - loss: 0.0640 - accuracy: 0.9597\n",
      "Epoch 35/50\n",
      "50/50 [==============================] - 6s 126ms/sample - loss: 0.0637 - accuracy: 0.9597\n",
      "Epoch 36/50\n",
      "50/50 [==============================] - 6s 128ms/sample - loss: 0.0636 - accuracy: 0.9597\n",
      "Epoch 37/50\n",
      "50/50 [==============================] - 6s 126ms/sample - loss: 0.0635 - accuracy: 0.9597\n",
      "Epoch 38/50\n",
      "50/50 [==============================] - 6s 126ms/sample - loss: 0.0633 - accuracy: 0.9597\n",
      "Epoch 39/50\n",
      "50/50 [==============================] - 6s 128ms/sample - loss: 0.0632 - accuracy: 0.9597\n",
      "Epoch 40/50\n",
      "50/50 [==============================] - 6s 124ms/sample - loss: 0.0630 - accuracy: 0.9597\n",
      "Epoch 41/50\n",
      "50/50 [==============================] - 6s 125ms/sample - loss: 0.0630 - accuracy: 0.9597\n",
      "Epoch 42/50\n",
      "50/50 [==============================] - 6s 125ms/sample - loss: 0.0628 - accuracy: 0.9597\n",
      "Epoch 43/50\n",
      "50/50 [==============================] - 6s 127ms/sample - loss: 0.0628 - accuracy: 0.9597\n",
      "Epoch 44/50\n",
      "50/50 [==============================] - 6s 125ms/sample - loss: 0.0627 - accuracy: 0.9597\n",
      "Epoch 45/50\n",
      "50/50 [==============================] - 6s 123ms/sample - loss: 0.0626 - accuracy: 0.9597\n",
      "Epoch 46/50\n",
      "50/50 [==============================] - 6s 125ms/sample - loss: 0.0625 - accuracy: 0.9597\n",
      "Epoch 47/50\n",
      "50/50 [==============================] - 6s 126ms/sample - loss: 0.0625 - accuracy: 0.9597\n",
      "Epoch 48/50\n",
      "50/50 [==============================] - 6s 125ms/sample - loss: 0.0623 - accuracy: 0.9597\n",
      "Epoch 49/50\n",
      "50/50 [==============================] - 6s 126ms/sample - loss: 0.0623 - accuracy: 0.9597\n",
      "Epoch 50/50\n",
      "50/50 [==============================] - 6s 125ms/sample - loss: 0.0622 - accuracy: 0.9597\n",
      "total computation time =  315.6985242366791\n",
      "WARNING:tensorflow:From C:\\Users\\gheisenb\\.conda\\envs\\TFlow2\\lib\\site-packages\\tensorflow_core\\python\\ops\\resource_variable_ops.py:1786: calling BaseResourceVariable.__init__ (from tensorflow.python.ops.resource_variable_ops) with constraint is deprecated and will be removed in a future version.\n",
      "Instructions for updating:\n",
      "If using Keras pass *_constraint arguments to layers.\n",
      "INFO:tensorflow:Assets written to: domain_adapt_autoenc_epochs.50.model\\assets\n"
     ]
    }
   ],
   "source": [
    "model = Sequential()\n",
    "\n",
    "model.add(Conv2D(32, (3, 3), activation='relu', padding='same', input_shape=(SIZE, SIZE, 3)))\n",
    "model.add(MaxPooling2D((2, 2), padding='same'))\n",
    "model.add(Conv2D(8, (3, 3), activation='relu', padding='same'))\n",
    "model.add(MaxPooling2D((2, 2), padding='same'))\n",
    "model.add(Conv2D(8, (3, 3), activation='relu', padding='same'))\n",
    "model.add(MaxPooling2D((2, 2), padding='same'))\n",
    "     \n",
    "model.add(Conv2D(8, (3, 3), activation='relu', padding='same'))\n",
    "model.add(UpSampling2D((2, 2)))\n",
    "model.add(Conv2D(8, (3, 3), activation='relu', padding='same'))\n",
    "model.add(UpSampling2D((2, 2)))\n",
    "model.add(Conv2D(32, (3, 3), activation='relu', padding='same'))\n",
    "model.add(UpSampling2D((2, 2)))\n",
    "model.add(Conv2D(3, (3, 3), activation='relu', padding='same'))\n",
    "\n",
    "model.compile(optimizer='adam', loss='mean_squared_error', metrics=['accuracy'])\n",
    "model.summary()\n",
    "\n",
    "#callbacks = [tf.keras.callbacks.TensorBoard(log_dir='einstein_logs')]\n",
    "\n",
    "# fit the model of input_img to output_img \n",
    "epochs = 50\n",
    "model.fit(input_img_array, output_img_array, epochs=epochs, shuffle=True)#, callbacks=callbacks)\n",
    "\n",
    "# print out the computation time\n",
    "finish=time.time()\n",
    "print('total computation time = ', finish-start)\n",
    "\n",
    "# save the model\n",
    "model.save(\"domain_adapt_autoenc_epochs.\" + str(epochs) + \".model\")"
   ]
  },
  {
   "cell_type": "code",
   "execution_count": 8,
   "id": "df2d2f78",
   "metadata": {},
   "outputs": [
    {
     "name": "stdout",
     "output_type": "stream",
     "text": [
      "output of test image\n"
     ]
    },
    {
     "data": {
      "image/png": "[encoded data removed]",
      "text/plain": [
       "<Figure size 432x288 with 1 Axes>"
      ]
     },
     "metadata": {
      "needs_background": "light"
     },
     "output_type": "display_data"
    }
   ],
   "source": [
    "# predict the original image as test image, \n",
    "# since it did not belong to the training data.\n",
    "# if the domain was really adapted, then the result would look like output_img\n",
    "\n",
    "print(\"output of test image\")\n",
    "pred = model.predict(test_img_array)\n",
    "plt.imshow(pred[0].reshape(SIZE,SIZE,3))\n",
    "plt.show()"
   ]
  },
  {
   "cell_type": "code",
   "execution_count": 9,
   "id": "9bb9fc43",
   "metadata": {},
   "outputs": [
    {
     "name": "stdout",
     "output_type": "stream",
     "text": [
      "INFO:tensorflow:Assets written to: domain_adapt_autoenc_epochs.50.model\\assets\n"
     ]
    }
   ],
   "source": [
    "# save the model\n",
    "model.save(\"domain_adapt_autoenc_epochs.\" + str(epochs) + \".model\")"
   ]
  },
  {
   "cell_type": "code",
   "execution_count": null,
   "id": "826bb252",
   "metadata": {},
   "outputs": [],
   "source": []
  }
 ],
 "metadata": {
  "kernelspec": {
   "display_name": "Python 3 (ipykernel)",
   "language": "python",
   "name": "python3"
  },
  "language_info": {
   "codemirror_mode": {
    "name": "ipython",
    "version": 3
   },
   "file_extension": ".py",
   "mimetype": "text/x-python",
   "name": "python",
   "nbconvert_exporter": "python",
   "pygments_lexer": "ipython3",
   "version": "3.9.15"
  }
 },
 "nbformat": 4,
 "nbformat_minor": 5
}
